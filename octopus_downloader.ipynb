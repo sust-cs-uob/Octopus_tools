{
 "cells": [
  {
   "cell_type": "code",
   "execution_count": null,
   "metadata": {},
   "outputs": [],
   "source": [
    "%matplotlib inline\n",
    "import matplotlib\n",
    "import numpy as np\n",
    "import matplotlib.pyplot as plt\n",
    "\n",
    "import os\n",
    "\n",
    "import json\n",
    "import pandas as pd\n",
    "\n",
    "from dotenv import load_dotenv\n",
    "\n",
    "load_dotenv(verbose=True, override=True)\n",
    "\n",
    "import math\n",
    "import logging\n",
    "logger = logging.getLogger(__name__)\n",
    "\n",
    "import dateutil\n",
    "\n",
    "import requests\n",
    "\n",
    "from requests.auth import HTTPBasicAuth\n"
   ]
  },
  {
   "cell_type": "code",
   "execution_count": null,
   "metadata": {},
   "outputs": [],
   "source": [
    "API_KEY = os.getenv('API_KEY')\n",
    "\n",
    "# electricty\n",
    "el_serial = os.getenv('el_serial')\n",
    "MPAN = os.getenv('MPAN')\n",
    "\n",
    "# gas\n",
    "gas_serial = os.getenv('gas_serial')\n",
    "MPRN = os.getenv('MPRN')\n",
    "\n",
    "PRODUCT = os.getenv('PRODUCT')\n",
    "TARIFF = os.getenv('TARIFF')\n"
   ]
  },
  {
   "cell_type": "code",
   "execution_count": null,
   "metadata": {},
   "outputs": [],
   "source": [
    "r = requests.get(f\"https://api.octopus.energy/v1/electricity-meter-points/{MPAN}/meters/{el_serial}/consumption/\", auth=(API_KEY, ''))\n",
    "print(r.status_code)"
   ]
  },
  {
   "cell_type": "markdown",
   "metadata": {},
   "source": [
    "# Download Consumption"
   ]
  },
  {
   "cell_type": "code",
   "execution_count": null,
   "metadata": {},
   "outputs": [],
   "source": [
    "url = f\"https://api.octopus.energy/v1/electricity-meter-points/{MPAN}/meters/{el_serial}/consumption/\"\n",
    "cont = True\n",
    "df = None\n",
    "while cont:\n",
    "\n",
    "    print(f'retrieving {url}')\n",
    "    r = requests.get(url, auth=(API_KEY, ''))\n",
    "    if df is None:\n",
    "        print('creating new DF')\n",
    "        df = pd.DataFrame.from_dict(r.json()['results'])\n",
    "        # print(f'new size {len(df)}')\n",
    "    else:\n",
    "        print('adding to DF')\n",
    "        # print(f'prior size {len(df)}')\n",
    "        df = df.append(pd.DataFrame.from_dict(r.json()['results']))\n",
    "        # print(f'post size {len(df)}')\n",
    "    if 'next' in r.json() and r.json()['next']:\n",
    "        url = r.json()['next']\n",
    "    else:\n",
    "        cont = False"
   ]
  },
  {
   "cell_type": "code",
   "execution_count": null,
   "metadata": {},
   "outputs": [],
   "source": [
    "df.to_excel('octopus_elect_consumption.xlsx')"
   ]
  },
  {
   "cell_type": "markdown",
   "metadata": {},
   "source": [
    "# Download Prices"
   ]
  },
  {
   "cell_type": "code",
   "execution_count": null,
   "metadata": {},
   "outputs": [],
   "source": [
    "url = f\"https://api.octopus.energy/v1/products/{PRODUCT}/electricity-tariffs/{TARIFF}/standard-unit-rates/\"\n",
    "cont = True\n",
    "df = None\n",
    "while cont:\n",
    "\n",
    "    print(f'retrieving {url}')\n",
    "    r = requests.get(url)\n",
    "    if df is None:\n",
    "        print('creating new DF')\n",
    "        df = pd.DataFrame.from_dict(r.json()['results'])\n",
    "        # print(f'new size {len(df)}')\n",
    "    else:\n",
    "        print('adding to DF')\n",
    "        # print(f'prior size {len(df)}')\n",
    "        df = df.append(pd.DataFrame.from_dict(r.json()['results']))\n",
    "        # print(f'post size {len(df)}')\n",
    "    if 'next' in r.json() and r.json()['next']:\n",
    "        url = r.json()['next']\n",
    "    else:\n",
    "        cont = False"
   ]
  },
  {
   "cell_type": "code",
   "execution_count": null,
   "metadata": {},
   "outputs": [],
   "source": [
    "df.to_excel('octopus_agile_rates.xlsx')"
   ]
  }
 ],
 "metadata": {
  "kernelspec": {
   "display_name": "Python 3",
   "language": "python",
   "name": "python3"
  },
  "language_info": {
   "codemirror_mode": {
    "name": "ipython",
    "version": 3
   },
   "file_extension": ".py",
   "mimetype": "text/x-python",
   "name": "python",
   "nbconvert_exporter": "python",
   "pygments_lexer": "ipython3",
   "version": "3.7.0"
  }
 },
 "nbformat": 4,
 "nbformat_minor": 4
}
